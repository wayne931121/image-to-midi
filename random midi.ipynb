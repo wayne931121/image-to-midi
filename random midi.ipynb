{
 "cells": [
  {
   "cell_type": "code",
   "execution_count": 1,
   "id": "86547810-5b75-4788-8a08-3eb761bb681e",
   "metadata": {},
   "outputs": [
    {
     "data": {
      "text/plain": [
       "0"
      ]
     },
     "execution_count": 1,
     "metadata": {},
     "output_type": "execute_result"
    }
   ],
   "source": [
    "\"\"\"\n",
    "pip install matplotlib\n",
    "git clone https://github.com/FlipperPA/midi-writer.git\n",
    "cd midi-writer\n",
    "pip install .\n",
    "cd ..\n",
    "jupyter notebook\n",
    "\"\"\"\n",
    "0"
   ]
  },
  {
   "cell_type": "code",
   "execution_count": 12,
   "id": "492042f8-49b4-40c7-8c11-6f99ede7d401",
   "metadata": {},
   "outputs": [],
   "source": [
    "from midi_writer import MIDIFile, Notes\n",
    "import random\n",
    "\n",
    "_ = Notes()\n",
    "k = _.__dict__ #note keys\n",
    "n = sorted([_.__getattribute__(i) for i in k]) #key values"
   ]
  },
  {
   "cell_type": "code",
   "execution_count": 13,
   "id": "ff21ee8f-24fc-4474-a5ca-1d63cc00e5b1",
   "metadata": {},
   "outputs": [],
   "source": [
    "track = 8\n",
    "length = 640"
   ]
  },
  {
   "cell_type": "code",
   "execution_count": 15,
   "id": "892f3689-37eb-4a27-aca0-226d961d613f",
   "metadata": {},
   "outputs": [],
   "source": [
    "#basic create\n",
    "channel = 0\n",
    "time = 0  # In beats\n",
    "duration = 1  # In beats\n",
    "tempo = 60  # In BPM\n",
    "velocity = 100  # 0-127, as per the MIDI standard - often used for VOLUME\n",
    "\n",
    "MyMIDI = MIDIFile(track)\n",
    "MyMIDI.add_tempo(0, time, tempo)\n",
    "for i in range(track):\n",
    "    MyMIDI.add_tempo(i, random.randint(1,100), random.randint(1,200))"
   ]
  },
  {
   "cell_type": "code",
   "execution_count": 16,
   "id": "86d18c0a-a217-4212-9536-d9f202f61812",
   "metadata": {},
   "outputs": [],
   "source": [
    "for index in range(track):\n",
    "    for j in range(length):\n",
    "        MyMIDI.add_note(index, channel, n[random.randint(0,len(n)-1)], time + j, duration, velocity)\n",
    "# for index in range(track):\n",
    "#     for j in range(length):\n",
    "#         MyMIDI.add_note(index, channel, n[random.randint(0,len(n)-1)], time + j, random.randint(1,8), random.randint(0,127))"
   ]
  },
  {
   "cell_type": "code",
   "execution_count": 17,
   "id": "5b063fd2-da06-4813-b5da-7d4cb079934c",
   "metadata": {},
   "outputs": [],
   "source": [
    "#output\n",
    "with open(\"random5.mid\", \"wb\") as output_file:\n",
    "    MyMIDI.write_file(output_file)"
   ]
  },
  {
   "cell_type": "code",
   "execution_count": null,
   "id": "66019b4a-0f90-41f4-85b4-fd0728e4ca1a",
   "metadata": {},
   "outputs": [],
   "source": []
  }
 ],
 "metadata": {
  "kernelspec": {
   "display_name": "Python 3 (ipykernel)",
   "language": "python",
   "name": "python3"
  },
  "language_info": {
   "codemirror_mode": {
    "name": "ipython",
    "version": 3
   },
   "file_extension": ".py",
   "mimetype": "text/x-python",
   "name": "python",
   "nbconvert_exporter": "python",
   "pygments_lexer": "ipython3",
   "version": "3.13.7"
  }
 },
 "nbformat": 4,
 "nbformat_minor": 5
}
