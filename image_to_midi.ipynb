{
  "nbformat": 4,
  "nbformat_minor": 0,
  "metadata": {
    "colab": {
      "provenance": []
    },
    "kernelspec": {
      "name": "python3",
      "display_name": "Python 3"
    },
    "language_info": {
      "name": "python"
    }
  },
  "cells": [
    {
      "cell_type": "code",
      "execution_count": 1,
      "metadata": {
        "colab": {
          "base_uri": "https://localhost:8080/"
        },
        "id": "j1FHxjWIWifl",
        "outputId": "64db6f57-3b47-4d87-f427-75b7d1c9d011"
      },
      "outputs": [
        {
          "output_type": "stream",
          "name": "stdout",
          "text": [
            "Cloning into 'midi-writer'...\n",
            "remote: Enumerating objects: 133, done.\u001b[K\n",
            "remote: Counting objects: 100% (133/133), done.\u001b[K\n",
            "remote: Compressing objects: 100% (102/102), done.\u001b[K\n",
            "remote: Total 133 (delta 60), reused 78 (delta 25), pack-reused 0 (from 0)\u001b[K\n",
            "Receiving objects: 100% (133/133), 68.31 KiB | 1.75 MiB/s, done.\n",
            "Resolving deltas: 100% (60/60), done.\n"
          ]
        }
      ],
      "source": [
        "!git clone https://github.com/FlipperPA/midi-writer.git"
      ]
    },
    {
      "cell_type": "code",
      "source": [
        "import sys\n",
        "sys.path.append(\"/content/midi-writer\")"
      ],
      "metadata": {
        "id": "Tv6LCcgZXI1L"
      },
      "execution_count": 2,
      "outputs": []
    },
    {
      "cell_type": "code",
      "source": [
        "from midi_writer import MIDIFile, Notes\n",
        "\n",
        "_ = Notes()\n",
        "k = _.__dict__\n",
        "n = sorted([_.__getattribute__(i) for i in k])"
      ],
      "metadata": {
        "id": "ziE9QgwOW002"
      },
      "execution_count": 3,
      "outputs": []
    },
    {
      "cell_type": "code",
      "source": [
        "l = n[0]  #lowwer\n",
        "u = n[-1] #upper\n",
        "r = u-l  #range"
      ],
      "metadata": {
        "id": "l-ti4JlEYlXq"
      },
      "execution_count": 4,
      "outputs": []
    },
    {
      "cell_type": "code",
      "source": [
        "!wget -O a.png \"https://raw.githubusercontent.com/wayne931121/acgan/refs/heads/main/resultim/Screenshot%20(638).png\""
      ],
      "metadata": {
        "colab": {
          "base_uri": "https://localhost:8080/"
        },
        "id": "CwCbzDvtY1uO",
        "outputId": "1ab2711b-f2dd-4bd3-b731-d50902ee325b"
      },
      "execution_count": 5,
      "outputs": [
        {
          "output_type": "stream",
          "name": "stdout",
          "text": [
            "--2025-10-29 01:32:01--  https://raw.githubusercontent.com/wayne931121/acgan/refs/heads/main/resultim/Screenshot%20(638).png\n",
            "Resolving raw.githubusercontent.com (raw.githubusercontent.com)... 185.199.111.133, 185.199.108.133, 185.199.109.133, ...\n",
            "Connecting to raw.githubusercontent.com (raw.githubusercontent.com)|185.199.111.133|:443... connected.\n",
            "HTTP request sent, awaiting response... 200 OK\n",
            "Length: 1866885 (1.8M) [image/png]\n",
            "Saving to: ‘a.png’\n",
            "\n",
            "a.png               100%[===================>]   1.78M  10.0MB/s    in 0.2s    \n",
            "\n",
            "2025-10-29 01:32:02 (10.0 MB/s) - ‘a.png’ saved [1866885/1866885]\n",
            "\n"
          ]
        }
      ]
    },
    {
      "cell_type": "code",
      "source": [
        "import matplotlib.pyplot as plt\n",
        "image = \"a.png\"\n",
        "image = plt.imread(image)"
      ],
      "metadata": {
        "id": "bx3-lWreaGlz"
      },
      "execution_count": 6,
      "outputs": []
    },
    {
      "cell_type": "code",
      "source": [
        "h,w,d = image.shape #heigth,width,depth"
      ],
      "metadata": {
        "id": "W7cV-b5Maf2t"
      },
      "execution_count": 7,
      "outputs": []
    },
    {
      "cell_type": "code",
      "source": [
        "ni = []\n",
        "for i in range(0,h, (h//r)+1):\n",
        "  ct = image[i]\n",
        "  ni.append([])\n",
        "  for j in range(0,w,(w//r)+1):\n",
        "    ni[-1].append(ct[j])"
      ],
      "metadata": {
        "id": "xyo1vCrjawWV"
      },
      "execution_count": 8,
      "outputs": []
    },
    {
      "cell_type": "code",
      "source": [
        "track = len(ni)"
      ],
      "metadata": {
        "id": "MhN_5dGWce1g"
      },
      "execution_count": 9,
      "outputs": []
    },
    {
      "cell_type": "code",
      "source": [
        "i1 = range(len(ni))\n",
        "j1 = range(len(ni[0]))\n",
        "k1 = range(len(ni[0][0]))\n",
        "for i in i1:\n",
        "  for j in j1:\n",
        "    sum_ = 0\n",
        "    for k in range(3):\n",
        "      sum_ += ni[i][j][k]\n",
        "    ni[i][j] = sum_"
      ],
      "metadata": {
        "id": "S6qgEr2we2Fd"
      },
      "execution_count": 10,
      "outputs": []
    },
    {
      "cell_type": "code",
      "source": [
        "import math\n",
        "mean = math.fsum(n)/len(n)"
      ],
      "metadata": {
        "id": "HMvhNNajf6tU"
      },
      "execution_count": 11,
      "outputs": []
    },
    {
      "cell_type": "code",
      "source": [
        "i1 = range(len(ni))\n",
        "j1 = range(len(ni[0]))\n",
        "for i in i1:\n",
        "  smean = math.fsum([i for i in ni[i]])/len(ni[i])\n",
        "  for j in j1:\n",
        "    ni[i][j] *= mean/smean"
      ],
      "metadata": {
        "id": "KfM9EBMngtR7"
      },
      "execution_count": 12,
      "outputs": []
    },
    {
      "cell_type": "code",
      "source": [
        "i1 = range(len(ni))\n",
        "j1 = range(len(ni[0]))\n",
        "for i in i1:\n",
        "  for j in j1:\n",
        "    ni[i][j] = int(ni[i][j])\n",
        "    if ni[i][j]>u:\n",
        "      ni[i][j] = u\n",
        "    if ni[i][j]<l:\n",
        "      ni[i][j] = l"
      ],
      "metadata": {
        "id": "wUCbSD2FhZpH"
      },
      "execution_count": 13,
      "outputs": []
    },
    {
      "cell_type": "code",
      "source": [
        "channel = 0\n",
        "time = 0  # In beats\n",
        "duration = 1  # In beats\n",
        "tempo = 60  # In BPM\n",
        "velocity = 100  # 0-127, as per the MIDI standard - often used for VOLUME\n",
        "\n",
        "MyMIDI = MIDIFile(track)\n",
        "MyMIDI.add_tempo(0, time, tempo)"
      ],
      "metadata": {
        "id": "1VQ2psbIhlc9"
      },
      "execution_count": 14,
      "outputs": []
    },
    {
      "cell_type": "code",
      "source": [
        "for index, items in enumerate(ni):\n",
        "    for j, pitch in enumerate(items):\n",
        "        MyMIDI.add_note(index, channel, pitch, time + j, duration, velocity)"
      ],
      "metadata": {
        "id": "GI8ZPa77hO98"
      },
      "execution_count": 15,
      "outputs": []
    },
    {
      "cell_type": "code",
      "source": [
        "with open(\"major-scale1.mid\", \"wb\") as output_file:\n",
        "    MyMIDI.write_file(output_file)"
      ],
      "metadata": {
        "id": "rUi9KVgOgUZJ"
      },
      "execution_count": 16,
      "outputs": []
    }
  ]
}