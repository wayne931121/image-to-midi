{
 "cells": [
  {
   "cell_type": "code",
   "execution_count": 1,
   "id": "86547810-5b75-4788-8a08-3eb761bb681e",
   "metadata": {},
   "outputs": [
    {
     "data": {
      "text/plain": [
       "0"
      ]
     },
     "execution_count": 1,
     "metadata": {},
     "output_type": "execute_result"
    }
   ],
   "source": [
    "\"\"\"\n",
    "pip install matplotlib\n",
    "git clone https://github.com/FlipperPA/midi-writer.git\n",
    "cd midi-writer\n",
    "pip install .\n",
    "cd ..\n",
    "jupyter notebook\n",
    "\"\"\"\n",
    "0"
   ]
  },
  {
   "cell_type": "code",
   "execution_count": 2,
   "id": "492042f8-49b4-40c7-8c11-6f99ede7d401",
   "metadata": {},
   "outputs": [],
   "source": [
    "from midi_writer import MIDIFile, Notes\n",
    "\n",
    "_ = Notes()\n",
    "k = _.__dict__ #note keys\n",
    "n = sorted([_.__getattribute__(i) for i in k]) #key values"
   ]
  },
  {
   "cell_type": "code",
   "execution_count": 3,
   "id": "f42d84d4-d533-43d1-aff9-d61ca61d6693",
   "metadata": {},
   "outputs": [],
   "source": [
    "l = n[0]  #lowwer\n",
    "u = n[-1] #upper\n",
    "r = u-l  #range"
   ]
  },
  {
   "cell_type": "code",
   "execution_count": 26,
   "id": "5a34fd8f-aed8-4026-9b31-f25e826ead20",
   "metadata": {},
   "outputs": [],
   "source": [
    "from PIL import Image\n",
    "import matplotlib.pyplot as plt\n",
    "import numpy as np\n",
    "\n",
    "# Open the image\n",
    "img = Image.open(r\"C:\\Users\\原神\\Downloads\\image (17).jpg\")\n",
    "img = img.convert(\"L\")\n",
    "# Define new size (width, height)\n",
    "new_size = (128, 128) \n",
    "\n",
    "# Resize the image\n",
    "image = np.array(img.resize(new_size))\n",
    "image = np.reshape(image,(*image.shape,1)).astype('float64')"
   ]
  },
  {
   "cell_type": "code",
   "execution_count": 27,
   "id": "94c29fa6-f9e6-435b-a703-6799b24b7073",
   "metadata": {},
   "outputs": [],
   "source": [
    "h,w,d = image.shape #heigth,width,depth"
   ]
  },
  {
   "cell_type": "code",
   "execution_count": 28,
   "id": "d754a928-7cbf-4671-a05f-d871b8b8ce4d",
   "metadata": {},
   "outputs": [],
   "source": [
    "#create note values by image datas\n",
    "ni = []\n",
    "split_value = 32\n",
    "previous = 0\n",
    "for i in range(previous, h, (h//split_value)):\n",
    "  image_combine_height = image[i]\n",
    "  for k in range(i-1,previous,-1):\n",
    "      image_combine_height = image_combine_height+image[k]\n",
    "  ct = image_combine_height #current image (current->ct)\n",
    "  ni.append([])\n",
    "  for j in range(0,w,(w//r)+1):\n",
    "    ni[-1].append(ct[j])\n",
    "  previous = i"
   ]
  },
  {
   "cell_type": "code",
   "execution_count": 29,
   "id": "1ab8da71-e330-4287-af26-0f5e13cedb42",
   "metadata": {},
   "outputs": [],
   "source": [
    "track = len(ni)"
   ]
  },
  {
   "cell_type": "code",
   "execution_count": 30,
   "id": "247fa4db-b542-45ff-8a58-f068f37959bb",
   "metadata": {},
   "outputs": [],
   "source": [
    "#turn image rgb 3channel into 1channel (mode==sum==combine)\n",
    "i1 = range(len(ni))\n",
    "j1 = range(len(ni[0]))\n",
    "k1 = range(len(ni[0][0]))\n",
    "for i in i1:\n",
    "  for j in j1:\n",
    "    sum_ = 0.0\n",
    "    for k in range(1):\n",
    "      sum_ += ni[i][j][k]\n",
    "    ni[i][j] = sum_"
   ]
  },
  {
   "cell_type": "code",
   "execution_count": 31,
   "id": "e878e0db-5066-4860-833c-beac3f5ff326",
   "metadata": {},
   "outputs": [],
   "source": [
    "import math\n",
    "mean = math.fsum(n)/len(n) #key values average"
   ]
  },
  {
   "cell_type": "code",
   "execution_count": 32,
   "id": "4d876f6c-4317-4454-9c62-5878eb637901",
   "metadata": {},
   "outputs": [],
   "source": [
    "#scale image data into note keys\n",
    "i1 = range(len(ni))\n",
    "j1 = range(len(ni[0]))\n",
    "for i in i1:\n",
    "  smean = math.fsum([i for i in ni[i]])/len(ni[i])\n",
    "  if smean==0:\n",
    "      smean=1\n",
    "  for j in j1:\n",
    "    ni[i][j] *= mean/smean"
   ]
  },
  {
   "cell_type": "code",
   "execution_count": 33,
   "id": "ade5be36-895c-4f6b-8551-459afcc15a57",
   "metadata": {},
   "outputs": [],
   "source": [
    "#upper and lower check\n",
    "i1 = range(len(ni))\n",
    "j1 = range(len(ni[0]))\n",
    "for i in i1:\n",
    "  for j in j1:\n",
    "    ni[i][j] = int(ni[i][j])\n",
    "    if ni[i][j]>u:\n",
    "      ni[i][j] = u\n",
    "    if ni[i][j]<l:\n",
    "      ni[i][j] = l"
   ]
  },
  {
   "cell_type": "code",
   "execution_count": 34,
   "id": "892f3689-37eb-4a27-aca0-226d961d613f",
   "metadata": {},
   "outputs": [],
   "source": [
    "#basic create\n",
    "channel = 0\n",
    "time = 0  # In beats\n",
    "duration = 1  # In beats\n",
    "tempo = 60  # In BPM\n",
    "velocity = 100  # 0-127, as per the MIDI standard - often used for VOLUME\n",
    "\n",
    "MyMIDI = MIDIFile(track)\n",
    "MyMIDI.add_tempo(0, time, tempo)"
   ]
  },
  {
   "cell_type": "code",
   "execution_count": 35,
   "id": "86d18c0a-a217-4212-9536-d9f202f61812",
   "metadata": {},
   "outputs": [],
   "source": [
    "#write track==image height, pitch==image width scale value\n",
    "for index, items in enumerate(ni):\n",
    "    for j, pitch in enumerate(items):\n",
    "        MyMIDI.add_note(index, channel, pitch, time + j, duration, velocity)"
   ]
  },
  {
   "cell_type": "code",
   "execution_count": 36,
   "id": "5b063fd2-da06-4813-b5da-7d4cb079934c",
   "metadata": {},
   "outputs": [],
   "source": [
    "#output\n",
    "with open(\"20251029124514.mid\", \"wb\") as output_file:\n",
    "    MyMIDI.write_file(output_file)"
   ]
  },
  {
   "cell_type": "code",
   "execution_count": null,
   "id": "66019b4a-0f90-41f4-85b4-fd0728e4ca1a",
   "metadata": {},
   "outputs": [],
   "source": []
  }
 ],
 "metadata": {
  "kernelspec": {
   "display_name": "Python 3 (ipykernel)",
   "language": "python",
   "name": "python3"
  },
  "language_info": {
   "codemirror_mode": {
    "name": "ipython",
    "version": 3
   },
   "file_extension": ".py",
   "mimetype": "text/x-python",
   "name": "python",
   "nbconvert_exporter": "python",
   "pygments_lexer": "ipython3",
   "version": "3.13.7"
  }
 },
 "nbformat": 4,
 "nbformat_minor": 5
}
