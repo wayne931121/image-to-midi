{
 "cells": [
  {
   "cell_type": "code",
   "execution_count": 17,
   "id": "86547810-5b75-4788-8a08-3eb761bb681e",
   "metadata": {},
   "outputs": [],
   "source": [
    "\"\"\"\n",
    "pip install matplotlib\n",
    "git clone https://github.com/FlipperPA/midi-writer.git\n",
    "cd midi-writer\n",
    "pip install .\n",
    "cd ..\n",
    "jupyter notebook\n",
    "\"\"\"\n",
    "None"
   ]
  },
  {
   "cell_type": "code",
   "execution_count": 2,
   "id": "492042f8-49b4-40c7-8c11-6f99ede7d401",
   "metadata": {},
   "outputs": [],
   "source": [
    "from midi_writer import MIDIFile, Notes\n",
    "import random\n",
    "\n",
    "_ = Notes()\n",
    "k = _.__dict__ #note keys\n",
    "n = sorted([_.__getattribute__(i) for i in k]) #key values"
   ]
  },
  {
   "cell_type": "code",
   "execution_count": 3,
   "id": "ff21ee8f-24fc-4474-a5ca-1d63cc00e5b1",
   "metadata": {},
   "outputs": [],
   "source": [
    "track = 1"
   ]
  },
  {
   "cell_type": "code",
   "execution_count": 19,
   "id": "86d18c0a-a217-4212-9536-d9f202f61812",
   "metadata": {},
   "outputs": [
    {
     "name": "stdout",
     "output_type": "stream",
     "text": [
      "upper 108 lowwer 21\n"
     ]
    },
    {
     "name": "stdin",
     "output_type": "stream",
     "text": [
      "input values between lowwer and upper split with space:\n",
      "example: \"50   50   50         50   80   50        60    60    60    60\"\n",
      " 50   50   50         50   80   50        60    60    60    60\n"
     ]
    }
   ],
   "source": [
    "#basic create\n",
    "channel = 0\n",
    "time = 0  # In beats\n",
    "duration = 1  # In beats\n",
    "tempo = 60  # In BPM\n",
    "velocity = 100  # 0-127, as per the MIDI standard - often used for VOLUME\n",
    "\n",
    "MyMIDI = MIDIFile(track)\n",
    "MyMIDI.add_tempo(0, time, tempo)\n",
    "for i in range(track):\n",
    "    MyMIDI.add_tempo(i, random.randint(1,100), random.randint(1,200))\n",
    "print(\"upper %d lowwer %d\" % (n[-1], n[0]) )\n",
    "i = input(\"input values between lowwer and upper split with space:\\nexample: \\\"50   50   50         50   80   50        60    60    60    60\\\"\\n\")\n",
    "i = i.split()\n",
    "for index in range(len(i)):\n",
    "    if not i[index]: continue\n",
    "    MyMIDI.add_note(0, channel, int(i[index]), time + index, duration, velocity)"
   ]
  },
  {
   "cell_type": "code",
   "execution_count": 16,
   "id": "5b063fd2-da06-4813-b5da-7d4cb079934c",
   "metadata": {},
   "outputs": [],
   "source": [
    "#output\n",
    "with open(\"manual.mid\", \"wb\") as output_file:\n",
    "    MyMIDI.write_file(output_file)"
   ]
  }
 ],
 "metadata": {
  "kernelspec": {
   "display_name": "Python 3 (ipykernel)",
   "language": "python",
   "name": "python3"
  },
  "language_info": {
   "codemirror_mode": {
    "name": "ipython",
    "version": 3
   },
   "file_extension": ".py",
   "mimetype": "text/x-python",
   "name": "python",
   "nbconvert_exporter": "python",
   "pygments_lexer": "ipython3",
   "version": "3.13.7"
  }
 },
 "nbformat": 4,
 "nbformat_minor": 5
}
